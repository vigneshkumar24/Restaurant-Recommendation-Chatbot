{
 "cells": [
  {
   "cell_type": "markdown",
   "metadata": {},
   "source": [
    "## RRC Model Evaluation"
   ]
  },
  {
   "cell_type": "code",
   "execution_count": null,
   "metadata": {},
   "outputs": [],
   "source": []
  },
  {
   "cell_type": "code",
   "execution_count": 1,
   "metadata": {},
   "outputs": [],
   "source": [
    "# Import required packages for pipeline\n",
    "from sklearn.base import BaseEstimator, TransformerMixin\n",
    "from sklearn.pipeline import Pipeline\n",
    "\n",
    "# Import required libraries\n",
    "import pandas as pd\n",
    "from bs4 import BeautifulSoup\n",
    "import re\n",
    "import contractions\n",
    "from nltk.corpus import stopwords\n",
    "from nltk.stem import PorterStemmer\n",
    "from nltk.tokenize import word_tokenize\n",
    "import pickle\n",
    "import seaborn as sns\n",
    "import matplotlib.pyplot as plt"
   ]
  },
  {
   "cell_type": "code",
   "execution_count": 2,
   "metadata": {},
   "outputs": [],
   "source": [
    "# Constructing a custom transformer for data preprocessing\n",
    "class CleanTransformer(BaseEstimator, TransformerMixin):\n",
    "    def __init__(self):\n",
    "        pass\n",
    "\n",
    "    def fit(self,X,y=None):\n",
    "        return self\n",
    "\n",
    "    # Removing the HTML tags\n",
    "    def remove_html_tags(self,text):\n",
    "        soup = BeautifulSoup(text, \"html.parser\")\n",
    "        text = soup.get_text(separator=\" \")\n",
    "        return text\n",
    "\n",
    "    # Removing the URLS from text\n",
    "    def remove_links(self,text):\n",
    "        text = re.sub(r'https?:\\/\\/.*[ ]*', '', text)\n",
    "        return text\n",
    "\n",
    "    # Converting non-ascii\n",
    "    def transform_nonascii(self,text):\n",
    "        return ''.join(char for char in text if ord(char) < 128)\n",
    "\n",
    "    # Removing numbers\n",
    "    def remove_numbers(self,text):\n",
    "        return re.sub(r'[0-9]+', '', text)\n",
    "\n",
    "    # Removing slashes\n",
    "    def remove_slash(self,text):\n",
    "        return re.sub(r'[\\n,\\b,\\t]', '', text)\n",
    "\n",
    "    # Removing contractions\n",
    "    def remove_contractions(self,text):\n",
    "        return contractions.fix(text)\n",
    "\n",
    "    # Removing non-alphanumerics:\n",
    "    def remove_nonalpha(self,text):\n",
    "        text = re.sub(r'[^\\w]', ' ', text)\n",
    "        text = re.sub(r'_', '', text)\n",
    "        return text\n",
    "\n",
    "    # Removing words with less words\n",
    "    def remove_less_characters(self,text):\n",
    "        return re.sub(r'\\b\\w{1,2}\\b', '', text)\n",
    "\n",
    "    # Unwanted spaces:\n",
    "    def remove_space(self,text):\n",
    "        return re.sub(r' +', ' ', text)\n",
    "\n",
    "    def transform(self,X,y=None):\n",
    "        X = X.apply(self.remove_html_tags)\n",
    "        X = X.apply(self.transform_nonascii)\n",
    "        X = X.apply(self.remove_numbers)\n",
    "        X = X.apply(self.remove_links)\n",
    "        X = X.apply(self.remove_slash)\n",
    "        X = X.apply(self.remove_contractions)\n",
    "        X = X.apply(self.remove_nonalpha)\n",
    "        X = X.apply(self.remove_less_characters)\n",
    "        X = X.apply(self.remove_space)\n",
    "        X = X.str.lower()\n",
    "        return X"
   ]
  },
  {
   "cell_type": "code",
   "execution_count": 3,
   "metadata": {},
   "outputs": [],
   "source": [
    "class StopWordsTransformer(BaseEstimator, TransformerMixin):\n",
    "    def __init__(self):\n",
    "        pass\n",
    "\n",
    "    def fit(self,X,y=None):\n",
    "        return self\n",
    "\n",
    "    # Stop words removal\n",
    "    def remove_stop_words(self,text):\n",
    "        removed_list = []\n",
    "        for token in text.split():\n",
    "            if token not in stopwords.words('english'):\n",
    "                removed_list.append(token)\n",
    "\n",
    "        return \" \".join(removed_list)\n",
    "\n",
    "    def transform(self,X,y=None):\n",
    "        return X.apply(self.remove_stop_words)"
   ]
  },
  {
   "cell_type": "code",
   "execution_count": 4,
   "metadata": {},
   "outputs": [],
   "source": [
    "class StemmingTransformer(BaseEstimator, TransformerMixin):\n",
    "    def __init__(self):\n",
    "        pass\n",
    "\n",
    "    def fit(self,X,y=None):\n",
    "        return self\n",
    "\n",
    "    # Stemming\n",
    "    def stemming(self,text):\n",
    "        ps = PorterStemmer()\n",
    "        return \" \".join([ps.stem(word) for word in word_tokenize(text)])\n",
    "\n",
    "    def transform(self,X,y=None):\n",
    "        return X.apply(self.stemming)"
   ]
  },
  {
   "cell_type": "code",
   "execution_count": 6,
   "metadata": {},
   "outputs": [],
   "source": [
    "clean_transformer = CleanTransformer()\n",
    "stop_words = StopWordsTransformer()\n",
    "stemming_transformer = StemmingTransformer()\n",
    "\n",
    "with open('data/vectorizer.pkl', 'rb') as file:\n",
    "    vectorizer = pickle.load(file)\n",
    "\n",
    "with open('data/model_lr.pkl', 'rb') as file:\n",
    "    model = pickle.load(file)"
   ]
  },
  {
   "cell_type": "code",
   "execution_count": 7,
   "metadata": {},
   "outputs": [],
   "source": [
    "model_pipeline = Pipeline([('clean_transformer', clean_transformer), ('stop_words', stop_words),\n",
    "                           ('stemming_transformer', stemming_transformer), ('vectorizer', vectorizer),\n",
    "                           ('model', model)])"
   ]
  },
  {
   "cell_type": "code",
   "execution_count": 8,
   "metadata": {},
   "outputs": [],
   "source": [
    "df_test = pd.read_csv('data/test_data.csv')"
   ]
  },
  {
   "cell_type": "code",
   "execution_count": 9,
   "metadata": {},
   "outputs": [],
   "source": [
    "predicted_labels = model_pipeline.predict(df_test['text'])"
   ]
  },
  {
   "cell_type": "code",
   "execution_count": 10,
   "metadata": {},
   "outputs": [],
   "source": [
    "def process_label(label):\n",
    "    for idx in range(len(label)):\n",
    "        # Positive if stars are above 4\n",
    "        if label[idx] >= 4:\n",
    "            label[idx] = 1\n",
    "        # Negative if starts are below 2\n",
    "        elif label[idx] <= 2:\n",
    "            label[idx] = -1\n",
    "        # Neutral if starts is 3\n",
    "        else:\n",
    "            label[idx] = 0\n",
    "\n",
    "    return label"
   ]
  },
  {
   "cell_type": "code",
   "execution_count": 11,
   "metadata": {},
   "outputs": [],
   "source": [
    "test_y = df_test['stars'].to_numpy()\n",
    "test_y = process_label(test_y)"
   ]
  },
  {
   "cell_type": "code",
   "execution_count": 12,
   "metadata": {},
   "outputs": [
    {
     "data": {
      "image/png": "[encoded data removed]",
      "text/plain": [
       "<Figure size 432x288 with 2 Axes>"
      ]
     },
     "metadata": {
      "needs_background": "light"
     },
     "output_type": "display_data"
    }
   ],
   "source": [
    "# Import confusion matrix\n",
    "from sklearn.metrics import confusion_matrix\n",
    "\n",
    "cmatrix = confusion_matrix(test_y,predicted_labels)\n",
    "class_names=['-1','0','1'] # name  of classes\n",
    "# create heatmap\n",
    "sns.heatmap(pd.DataFrame(cmatrix, columns=class_names), annot=True, fmt='g')\n",
    "plt.xticks(range(3),['-1','0','1'])\n",
    "plt.yticks(range(3),['-1','0','1'])\n",
    "plt.ylabel('Actual label')\n",
    "plt.xlabel('Predicted label')\n",
    "plt.show()"
   ]
  },
  {
   "cell_type": "code",
   "execution_count": 13,
   "metadata": {},
   "outputs": [
    {
     "name": "stdout",
     "output_type": "stream",
     "text": [
      "Accuracy for the test set is 0.8041304823761221\n",
      "F1 score for the test set is 0.7869307112489586\n"
     ]
    }
   ],
   "source": [
    "from sklearn.metrics import accuracy_score\n",
    "from sklearn.metrics import f1_score\n",
    "\n",
    "accuracy = accuracy_score(test_y,predicted_labels)\n",
    "f1_score = f1_score(test_y,predicted_labels, average='weighted')\n",
    "\n",
    "print(f'Accuracy for the test set is {accuracy}')\n",
    "print(f'F1 score for the test set is {f1_score}')"
   ]
  },
  {
   "cell_type": "code",
   "execution_count": null,
   "metadata": {},
   "outputs": [],
   "source": []
  }
 ],
 "metadata": {
  "kernelspec": {
   "display_name": "Python 3",
   "language": "python",
   "name": "python3"
  },
  "language_info": {
   "codemirror_mode": {
    "name": "ipython",
    "version": 3
   },
   "file_extension": ".py",
   "mimetype": "text/x-python",
   "name": "python",
   "nbconvert_exporter": "python",
   "pygments_lexer": "ipython3",
   "version": "3.7.6"
  }
 },
 "nbformat": 4,
 "nbformat_minor": 4
}
